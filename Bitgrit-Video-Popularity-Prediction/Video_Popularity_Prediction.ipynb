{
  "nbformat": 4,
  "nbformat_minor": 0,
  "metadata": {
    "colab": {
      "name": "Video_Popularity_Prediction_0_90398889.ipynb",
      "provenance": [],
      "collapsed_sections": []
    },
    "kernelspec": {
      "name": "python3",
      "display_name": "Python 3"
    }
  },
  "cells": [
    {
      "cell_type": "code",
      "metadata": {
        "id": "n-r-CDu6gSEH"
      },
      "source": [
        "import warnings\n",
        "warnings.filterwarnings('ignore')"
      ],
      "execution_count": null,
      "outputs": []
    },
    {
      "cell_type": "code",
      "metadata": {
        "id": "MI03ouQWhioW"
      },
      "source": [
        "import numpy as np\n",
        "import pandas as pd\n",
        "import matplotlib.pyplot as plt\n",
        "import seaborn as sns"
      ],
      "execution_count": null,
      "outputs": []
    },
    {
      "cell_type": "code",
      "metadata": {
        "id": "MIPL6ohC88Or"
      },
      "source": [
        "df = pd.read_csv('https://raw.githubusercontent.com/Aneeshcoder/Video-Popularity-Prediction-Challenge/main/Train%20Data.csv')\n",
        "dp = pd.read_csv('https://raw.githubusercontent.com/Aneeshcoder/Video-Popularity-Prediction-Challenge/main/Public%20Data.csv')"
      ],
      "execution_count": null,
      "outputs": []
    },
    {
      "cell_type": "code",
      "metadata": {
        "id": "qSTwuCgLh6Ji",
        "colab": {
          "base_uri": "https://localhost:8080/",
          "height": 223
        },
        "outputId": "98cba84b-4e96-4aa2-fd59-bf7511abe78c"
      },
      "source": [
        "df.head()"
      ],
      "execution_count": null,
      "outputs": [
        {
          "output_type": "execute_result",
          "data": {
            "text/html": [
              "<div>\n",
              "<style scoped>\n",
              "    .dataframe tbody tr th:only-of-type {\n",
              "        vertical-align: middle;\n",
              "    }\n",
              "\n",
              "    .dataframe tbody tr th {\n",
              "        vertical-align: top;\n",
              "    }\n",
              "\n",
              "    .dataframe thead th {\n",
              "        text-align: right;\n",
              "    }\n",
              "</style>\n",
              "<table border=\"1\" class=\"dataframe\">\n",
              "  <thead>\n",
              "    <tr style=\"text-align: right;\">\n",
              "      <th></th>\n",
              "      <th>comp_id</th>\n",
              "      <th>desc</th>\n",
              "      <th>image</th>\n",
              "      <th>ad_blocked</th>\n",
              "      <th>embed</th>\n",
              "      <th>ratio</th>\n",
              "      <th>duration</th>\n",
              "      <th>language</th>\n",
              "      <th>partner</th>\n",
              "      <th>partner_active</th>\n",
              "      <th>n_likes</th>\n",
              "      <th>views</th>\n",
              "      <th>n_tags</th>\n",
              "      <th>n_formats</th>\n",
              "      <th>dayofweek</th>\n",
              "      <th>hour</th>\n",
              "      <th>title</th>\n",
              "    </tr>\n",
              "  </thead>\n",
              "  <tbody>\n",
              "    <tr>\n",
              "      <th>0</th>\n",
              "      <td>1</td>\n",
              "      <td>-0.129038</td>\n",
              "      <td>-0.024423</td>\n",
              "      <td>False</td>\n",
              "      <td>True</td>\n",
              "      <td>1.77778</td>\n",
              "      <td>86</td>\n",
              "      <td>3</td>\n",
              "      <td>True</td>\n",
              "      <td>False</td>\n",
              "      <td>0</td>\n",
              "      <td>290</td>\n",
              "      <td>3</td>\n",
              "      <td>0</td>\n",
              "      <td>5</td>\n",
              "      <td>6</td>\n",
              "      <td>0.113135</td>\n",
              "    </tr>\n",
              "    <tr>\n",
              "      <th>1</th>\n",
              "      <td>2</td>\n",
              "      <td>-0.129038</td>\n",
              "      <td>0.011685</td>\n",
              "      <td>False</td>\n",
              "      <td>True</td>\n",
              "      <td>1.33333</td>\n",
              "      <td>1129</td>\n",
              "      <td>2</td>\n",
              "      <td>True</td>\n",
              "      <td>False</td>\n",
              "      <td>0</td>\n",
              "      <td>1443</td>\n",
              "      <td>0</td>\n",
              "      <td>2</td>\n",
              "      <td>5</td>\n",
              "      <td>6</td>\n",
              "      <td>0.107456</td>\n",
              "    </tr>\n",
              "    <tr>\n",
              "      <th>2</th>\n",
              "      <td>3</td>\n",
              "      <td>0.278721</td>\n",
              "      <td>-0.013306</td>\n",
              "      <td>False</td>\n",
              "      <td>True</td>\n",
              "      <td>1.76667</td>\n",
              "      <td>1163</td>\n",
              "      <td>2</td>\n",
              "      <td>True</td>\n",
              "      <td>False</td>\n",
              "      <td>0</td>\n",
              "      <td>329</td>\n",
              "      <td>0</td>\n",
              "      <td>1</td>\n",
              "      <td>5</td>\n",
              "      <td>6</td>\n",
              "      <td>0.067066</td>\n",
              "    </tr>\n",
              "    <tr>\n",
              "      <th>3</th>\n",
              "      <td>4</td>\n",
              "      <td>0.281460</td>\n",
              "      <td>0.016042</td>\n",
              "      <td>False</td>\n",
              "      <td>True</td>\n",
              "      <td>1.77778</td>\n",
              "      <td>1326</td>\n",
              "      <td>2</td>\n",
              "      <td>True</td>\n",
              "      <td>False</td>\n",
              "      <td>0</td>\n",
              "      <td>63</td>\n",
              "      <td>0</td>\n",
              "      <td>3</td>\n",
              "      <td>5</td>\n",
              "      <td>6</td>\n",
              "      <td>0.016965</td>\n",
              "    </tr>\n",
              "    <tr>\n",
              "      <th>4</th>\n",
              "      <td>5</td>\n",
              "      <td>-0.053555</td>\n",
              "      <td>-0.002058</td>\n",
              "      <td>False</td>\n",
              "      <td>True</td>\n",
              "      <td>1.77273</td>\n",
              "      <td>2612</td>\n",
              "      <td>2</td>\n",
              "      <td>True</td>\n",
              "      <td>False</td>\n",
              "      <td>3</td>\n",
              "      <td>37</td>\n",
              "      <td>0</td>\n",
              "      <td>0</td>\n",
              "      <td>5</td>\n",
              "      <td>6</td>\n",
              "      <td>-0.110706</td>\n",
              "    </tr>\n",
              "  </tbody>\n",
              "</table>\n",
              "</div>"
            ],
            "text/plain": [
              "   comp_id      desc     image  ...  dayofweek  hour     title\n",
              "0        1 -0.129038 -0.024423  ...          5     6  0.113135\n",
              "1        2 -0.129038  0.011685  ...          5     6  0.107456\n",
              "2        3  0.278721 -0.013306  ...          5     6  0.067066\n",
              "3        4  0.281460  0.016042  ...          5     6  0.016965\n",
              "4        5 -0.053555 -0.002058  ...          5     6 -0.110706\n",
              "\n",
              "[5 rows x 17 columns]"
            ]
          },
          "metadata": {
            "tags": []
          },
          "execution_count": 4
        }
      ]
    },
    {
      "cell_type": "code",
      "metadata": {
        "id": "R8Z9WY0A-FJT"
      },
      "source": [
        "df = df.drop(\"comp_id\", axis=1)\n",
        "dp = dp.drop(\"comp_id\", axis=1)\n",
        "\n",
        "df = df.drop(\"dayofweek\", axis=1)\n",
        "dp = dp.drop(\"dayofweek\", axis=1)\n",
        "\n",
        "df = df.drop(\"title\", axis=1) \n",
        "dp = dp.drop(\"title\", axis=1) \n",
        "df = df.drop(\"n_formats\", axis=1) \n",
        "dp = dp.drop(\"n_formats\", axis=1) \n",
        "\n",
        "df = df.drop(\"embed\", axis=1) \n",
        "dp = dp.drop(\"embed\", axis=1) \n",
        "\n",
        "df = df.drop(\"duration\", axis=1) \n",
        "dp = dp.drop(\"duration\", axis=1)"
      ],
      "execution_count": null,
      "outputs": []
    },
    {
      "cell_type": "code",
      "metadata": {
        "id": "VF7bcE-FEyU2",
        "colab": {
          "base_uri": "https://localhost:8080/",
          "height": 223
        },
        "outputId": "c0cc2d29-bbd5-46e5-babe-1698c1261c93"
      },
      "source": [
        "df.head()"
      ],
      "execution_count": null,
      "outputs": [
        {
          "output_type": "execute_result",
          "data": {
            "text/html": [
              "<div>\n",
              "<style scoped>\n",
              "    .dataframe tbody tr th:only-of-type {\n",
              "        vertical-align: middle;\n",
              "    }\n",
              "\n",
              "    .dataframe tbody tr th {\n",
              "        vertical-align: top;\n",
              "    }\n",
              "\n",
              "    .dataframe thead th {\n",
              "        text-align: right;\n",
              "    }\n",
              "</style>\n",
              "<table border=\"1\" class=\"dataframe\">\n",
              "  <thead>\n",
              "    <tr style=\"text-align: right;\">\n",
              "      <th></th>\n",
              "      <th>desc</th>\n",
              "      <th>image</th>\n",
              "      <th>ad_blocked</th>\n",
              "      <th>ratio</th>\n",
              "      <th>language</th>\n",
              "      <th>partner</th>\n",
              "      <th>partner_active</th>\n",
              "      <th>n_likes</th>\n",
              "      <th>views</th>\n",
              "      <th>n_tags</th>\n",
              "      <th>hour</th>\n",
              "    </tr>\n",
              "  </thead>\n",
              "  <tbody>\n",
              "    <tr>\n",
              "      <th>0</th>\n",
              "      <td>-0.129038</td>\n",
              "      <td>-0.024423</td>\n",
              "      <td>False</td>\n",
              "      <td>1.77778</td>\n",
              "      <td>3</td>\n",
              "      <td>True</td>\n",
              "      <td>False</td>\n",
              "      <td>0</td>\n",
              "      <td>290</td>\n",
              "      <td>3</td>\n",
              "      <td>6</td>\n",
              "    </tr>\n",
              "    <tr>\n",
              "      <th>1</th>\n",
              "      <td>-0.129038</td>\n",
              "      <td>0.011685</td>\n",
              "      <td>False</td>\n",
              "      <td>1.33333</td>\n",
              "      <td>2</td>\n",
              "      <td>True</td>\n",
              "      <td>False</td>\n",
              "      <td>0</td>\n",
              "      <td>1443</td>\n",
              "      <td>0</td>\n",
              "      <td>6</td>\n",
              "    </tr>\n",
              "    <tr>\n",
              "      <th>2</th>\n",
              "      <td>0.278721</td>\n",
              "      <td>-0.013306</td>\n",
              "      <td>False</td>\n",
              "      <td>1.76667</td>\n",
              "      <td>2</td>\n",
              "      <td>True</td>\n",
              "      <td>False</td>\n",
              "      <td>0</td>\n",
              "      <td>329</td>\n",
              "      <td>0</td>\n",
              "      <td>6</td>\n",
              "    </tr>\n",
              "    <tr>\n",
              "      <th>3</th>\n",
              "      <td>0.281460</td>\n",
              "      <td>0.016042</td>\n",
              "      <td>False</td>\n",
              "      <td>1.77778</td>\n",
              "      <td>2</td>\n",
              "      <td>True</td>\n",
              "      <td>False</td>\n",
              "      <td>0</td>\n",
              "      <td>63</td>\n",
              "      <td>0</td>\n",
              "      <td>6</td>\n",
              "    </tr>\n",
              "    <tr>\n",
              "      <th>4</th>\n",
              "      <td>-0.053555</td>\n",
              "      <td>-0.002058</td>\n",
              "      <td>False</td>\n",
              "      <td>1.77273</td>\n",
              "      <td>2</td>\n",
              "      <td>True</td>\n",
              "      <td>False</td>\n",
              "      <td>3</td>\n",
              "      <td>37</td>\n",
              "      <td>0</td>\n",
              "      <td>6</td>\n",
              "    </tr>\n",
              "  </tbody>\n",
              "</table>\n",
              "</div>"
            ],
            "text/plain": [
              "       desc     image  ad_blocked    ratio  ...  n_likes  views  n_tags  hour\n",
              "0 -0.129038 -0.024423       False  1.77778  ...        0    290       3     6\n",
              "1 -0.129038  0.011685       False  1.33333  ...        0   1443       0     6\n",
              "2  0.278721 -0.013306       False  1.76667  ...        0    329       0     6\n",
              "3  0.281460  0.016042       False  1.77778  ...        0     63       0     6\n",
              "4 -0.053555 -0.002058       False  1.77273  ...        3     37       0     6\n",
              "\n",
              "[5 rows x 11 columns]"
            ]
          },
          "metadata": {
            "tags": []
          },
          "execution_count": 6
        }
      ]
    },
    {
      "cell_type": "code",
      "metadata": {
        "id": "bUaLAurrrB1W"
      },
      "source": [
        "df = df.replace({False: 0, True: 1})\n",
        "dp = dp.replace({False: 0, True: 1})"
      ],
      "execution_count": null,
      "outputs": []
    },
    {
      "cell_type": "code",
      "metadata": {
        "id": "vpTX8HkAkexO",
        "colab": {
          "base_uri": "https://localhost:8080/",
          "height": 223
        },
        "outputId": "d9d485a1-d99b-4a5d-d51f-7d72aee8887b"
      },
      "source": [
        "X = df.drop('views',axis=1)\n",
        "X.head()"
      ],
      "execution_count": null,
      "outputs": [
        {
          "output_type": "execute_result",
          "data": {
            "text/html": [
              "<div>\n",
              "<style scoped>\n",
              "    .dataframe tbody tr th:only-of-type {\n",
              "        vertical-align: middle;\n",
              "    }\n",
              "\n",
              "    .dataframe tbody tr th {\n",
              "        vertical-align: top;\n",
              "    }\n",
              "\n",
              "    .dataframe thead th {\n",
              "        text-align: right;\n",
              "    }\n",
              "</style>\n",
              "<table border=\"1\" class=\"dataframe\">\n",
              "  <thead>\n",
              "    <tr style=\"text-align: right;\">\n",
              "      <th></th>\n",
              "      <th>desc</th>\n",
              "      <th>image</th>\n",
              "      <th>ad_blocked</th>\n",
              "      <th>ratio</th>\n",
              "      <th>language</th>\n",
              "      <th>partner</th>\n",
              "      <th>partner_active</th>\n",
              "      <th>n_likes</th>\n",
              "      <th>n_tags</th>\n",
              "      <th>hour</th>\n",
              "    </tr>\n",
              "  </thead>\n",
              "  <tbody>\n",
              "    <tr>\n",
              "      <th>0</th>\n",
              "      <td>-0.129038</td>\n",
              "      <td>-0.024423</td>\n",
              "      <td>0</td>\n",
              "      <td>1.77778</td>\n",
              "      <td>3</td>\n",
              "      <td>1</td>\n",
              "      <td>0</td>\n",
              "      <td>0</td>\n",
              "      <td>3</td>\n",
              "      <td>6</td>\n",
              "    </tr>\n",
              "    <tr>\n",
              "      <th>1</th>\n",
              "      <td>-0.129038</td>\n",
              "      <td>0.011685</td>\n",
              "      <td>0</td>\n",
              "      <td>1.33333</td>\n",
              "      <td>2</td>\n",
              "      <td>1</td>\n",
              "      <td>0</td>\n",
              "      <td>0</td>\n",
              "      <td>0</td>\n",
              "      <td>6</td>\n",
              "    </tr>\n",
              "    <tr>\n",
              "      <th>2</th>\n",
              "      <td>0.278721</td>\n",
              "      <td>-0.013306</td>\n",
              "      <td>0</td>\n",
              "      <td>1.76667</td>\n",
              "      <td>2</td>\n",
              "      <td>1</td>\n",
              "      <td>0</td>\n",
              "      <td>0</td>\n",
              "      <td>0</td>\n",
              "      <td>6</td>\n",
              "    </tr>\n",
              "    <tr>\n",
              "      <th>3</th>\n",
              "      <td>0.281460</td>\n",
              "      <td>0.016042</td>\n",
              "      <td>0</td>\n",
              "      <td>1.77778</td>\n",
              "      <td>2</td>\n",
              "      <td>1</td>\n",
              "      <td>0</td>\n",
              "      <td>0</td>\n",
              "      <td>0</td>\n",
              "      <td>6</td>\n",
              "    </tr>\n",
              "    <tr>\n",
              "      <th>4</th>\n",
              "      <td>-0.053555</td>\n",
              "      <td>-0.002058</td>\n",
              "      <td>0</td>\n",
              "      <td>1.77273</td>\n",
              "      <td>2</td>\n",
              "      <td>1</td>\n",
              "      <td>0</td>\n",
              "      <td>3</td>\n",
              "      <td>0</td>\n",
              "      <td>6</td>\n",
              "    </tr>\n",
              "  </tbody>\n",
              "</table>\n",
              "</div>"
            ],
            "text/plain": [
              "       desc     image  ad_blocked  ...  n_likes  n_tags  hour\n",
              "0 -0.129038 -0.024423           0  ...        0       3     6\n",
              "1 -0.129038  0.011685           0  ...        0       0     6\n",
              "2  0.278721 -0.013306           0  ...        0       0     6\n",
              "3  0.281460  0.016042           0  ...        0       0     6\n",
              "4 -0.053555 -0.002058           0  ...        3       0     6\n",
              "\n",
              "[5 rows x 10 columns]"
            ]
          },
          "metadata": {
            "tags": []
          },
          "execution_count": 8
        }
      ]
    },
    {
      "cell_type": "code",
      "metadata": {
        "id": "MN8usOWGlFd-",
        "colab": {
          "base_uri": "https://localhost:8080/"
        },
        "outputId": "521d8b12-926c-45fa-e72f-d613e74fe762"
      },
      "source": [
        "y = df['views']\n",
        "y.head()"
      ],
      "execution_count": null,
      "outputs": [
        {
          "output_type": "execute_result",
          "data": {
            "text/plain": [
              "0     290\n",
              "1    1443\n",
              "2     329\n",
              "3      63\n",
              "4      37\n",
              "Name: views, dtype: int64"
            ]
          },
          "metadata": {
            "tags": []
          },
          "execution_count": 9
        }
      ]
    },
    {
      "cell_type": "code",
      "metadata": {
        "id": "UmjyHXrafoZz"
      },
      "source": [
        "from sklearn.ensemble import GradientBoostingRegressor\n",
        "from sklearn.metrics import mean_squared_error\n",
        "from sklearn.metrics import mean_absolute_error"
      ],
      "execution_count": null,
      "outputs": []
    },
    {
      "cell_type": "code",
      "metadata": {
        "id": "JqyjqQBVfJ0V"
      },
      "source": [
        "from sklearn.model_selection import train_test_split\n",
        "\n",
        "X_train, X_test, y_train, y_test = train_test_split(X, y, test_size=0.3)"
      ],
      "execution_count": null,
      "outputs": []
    },
    {
      "cell_type": "code",
      "metadata": {
        "id": "FqaeLpbIm1NB"
      },
      "source": [
        "from sklearn.preprocessing import StandardScaler\n",
        "ss = StandardScaler()\n",
        "X_train = ss.fit_transform(X_train)\n",
        "X_test = ss.transform(X_test)\n",
        "\n",
        "X_mytest = ss.fit_transform(dp)"
      ],
      "execution_count": null,
      "outputs": []
    },
    {
      "cell_type": "code",
      "metadata": {
        "colab": {
          "base_uri": "https://localhost:8080/"
        },
        "id": "2YQ7g3fPckCP",
        "outputId": "e198245c-75b5-44a0-ef7f-ee88ddcb8429"
      },
      "source": [
        "regressor = GradientBoostingRegressor(\n",
        "    max_depth=2,\n",
        "    n_estimators=3,\n",
        "    learning_rate=1.0\n",
        ")\n",
        "regressor.fit(X_train, y_train)"
      ],
      "execution_count": null,
      "outputs": [
        {
          "output_type": "execute_result",
          "data": {
            "text/plain": [
              "GradientBoostingRegressor(alpha=0.9, ccp_alpha=0.0, criterion='friedman_mse',\n",
              "                          init=None, learning_rate=1.0, loss='ls', max_depth=2,\n",
              "                          max_features=None, max_leaf_nodes=None,\n",
              "                          min_impurity_decrease=0.0, min_impurity_split=None,\n",
              "                          min_samples_leaf=1, min_samples_split=2,\n",
              "                          min_weight_fraction_leaf=0.0, n_estimators=3,\n",
              "                          n_iter_no_change=None, presort='deprecated',\n",
              "                          random_state=None, subsample=1.0, tol=0.0001,\n",
              "                          validation_fraction=0.1, verbose=0, warm_start=False)"
            ]
          },
          "metadata": {
            "tags": []
          },
          "execution_count": 13
        }
      ]
    },
    {
      "cell_type": "code",
      "metadata": {
        "id": "C_Bq--xqdms0"
      },
      "source": [
        "y_pred = regressor.predict(X_test)\n",
        "errors = [mean_squared_error(y_test, y_pred) for y_pred in regressor.staged_predict(X_test)]\n",
        "best_n_estimators = np.argmin(errors)"
      ],
      "execution_count": null,
      "outputs": []
    },
    {
      "cell_type": "code",
      "metadata": {
        "colab": {
          "base_uri": "https://localhost:8080/"
        },
        "id": "-gkYQRzXcuyc",
        "outputId": "a0686179-f214-4fb0-a322-9ec2b6977919"
      },
      "source": [
        "best_regressor = GradientBoostingRegressor(\n",
        "    max_depth=2,\n",
        "    n_estimators=best_n_estimators,\n",
        "    learning_rate=1.0\n",
        ")\n",
        "best_regressor.fit(X_train, y_train)"
      ],
      "execution_count": null,
      "outputs": [
        {
          "output_type": "execute_result",
          "data": {
            "text/plain": [
              "GradientBoostingRegressor(alpha=0.9, ccp_alpha=0.0, criterion='friedman_mse',\n",
              "                          init=None, learning_rate=1.0, loss='ls', max_depth=2,\n",
              "                          max_features=None, max_leaf_nodes=None,\n",
              "                          min_impurity_decrease=0.0, min_impurity_split=None,\n",
              "                          min_samples_leaf=1, min_samples_split=2,\n",
              "                          min_weight_fraction_leaf=0.0, n_estimators=1,\n",
              "                          n_iter_no_change=None, presort='deprecated',\n",
              "                          random_state=None, subsample=1.0, tol=0.0001,\n",
              "                          validation_fraction=0.1, verbose=0, warm_start=False)"
            ]
          },
          "metadata": {
            "tags": []
          },
          "execution_count": 15
        }
      ]
    },
    {
      "cell_type": "code",
      "metadata": {
        "id": "MhxsT7ApF7DR",
        "colab": {
          "base_uri": "https://localhost:8080/"
        },
        "outputId": "32ccb46b-742f-4c9f-c954-692242bd570b"
      },
      "source": [
        "y_pred = best_regressor.predict(X_test)\n",
        "mean_absolute_error(y_test, y_pred)"
      ],
      "execution_count": null,
      "outputs": [
        {
          "output_type": "execute_result",
          "data": {
            "text/plain": [
              "591.7943324314537"
            ]
          },
          "metadata": {
            "tags": []
          },
          "execution_count": 16
        }
      ]
    },
    {
      "cell_type": "code",
      "metadata": {
        "colab": {
          "base_uri": "https://localhost:8080/"
        },
        "id": "Im1PcEz4gr9z",
        "outputId": "16feaa7f-e214-4f29-eeed-ecf9c781dd53"
      },
      "source": [
        "y_mypred = best_regressor.predict(X_mytest)\n",
        "y_mypred"
      ],
      "execution_count": null,
      "outputs": [
        {
          "output_type": "execute_result",
          "data": {
            "text/plain": [
              "array([ 377.72464558,  377.72464558,  377.72464558, 1670.28930818,\n",
              "        377.72464558,  377.72464558,  377.72464558,  377.72464558,\n",
              "        377.72464558,  377.72464558,  377.72464558,  377.72464558,\n",
              "        377.72464558,  377.72464558,  377.72464558,  377.72464558,\n",
              "        377.72464558,  377.72464558,  377.72464558,  377.72464558,\n",
              "        377.72464558,  377.72464558,  377.72464558,  377.72464558,\n",
              "        377.72464558,  377.72464558,  377.72464558,  377.72464558,\n",
              "        377.72464558,  377.72464558,  377.72464558,  377.72464558,\n",
              "        377.72464558,  377.72464558,  377.72464558,  377.72464558,\n",
              "        377.72464558,  377.72464558,  377.72464558,  377.72464558,\n",
              "        377.72464558,  377.72464558, 1670.28930818,  377.72464558,\n",
              "        377.72464558,  377.72464558,  377.72464558,  377.72464558,\n",
              "        377.72464558,  377.72464558,  377.72464558,  377.72464558,\n",
              "        377.72464558,  377.72464558,  377.72464558,  377.72464558,\n",
              "        377.72464558,  377.72464558,  377.72464558,  377.72464558,\n",
              "        377.72464558,  377.72464558,  377.72464558,  377.72464558,\n",
              "        377.72464558,  377.72464558,  377.72464558,  377.72464558,\n",
              "        377.72464558,  377.72464558,  377.72464558,  377.72464558,\n",
              "       1637.45098039,  377.72464558,  377.72464558, 1670.28930818,\n",
              "        377.72464558,  377.72464558,  377.72464558,  377.72464558,\n",
              "        377.72464558, 1670.28930818,  377.72464558,  377.72464558,\n",
              "        377.72464558,  377.72464558,  377.72464558,  377.72464558,\n",
              "        377.72464558,  377.72464558,  377.72464558,  377.72464558,\n",
              "        377.72464558,  377.72464558,  377.72464558,  377.72464558,\n",
              "        377.72464558,  377.72464558,  377.72464558,  377.72464558,\n",
              "        377.72464558,  377.72464558,  377.72464558,  377.72464558,\n",
              "        377.72464558,  377.72464558,  377.72464558,  377.72464558,\n",
              "        377.72464558,  377.72464558,  377.72464558,  377.72464558,\n",
              "        377.72464558,  377.72464558,  377.72464558,  377.72464558,\n",
              "        377.72464558,  377.72464558,  377.72464558,  377.72464558,\n",
              "        377.72464558,  377.72464558,  377.72464558,  377.72464558,\n",
              "        377.72464558,  377.72464558,  377.72464558,  377.72464558,\n",
              "        377.72464558,  377.72464558,  377.72464558,  377.72464558,\n",
              "        377.72464558,  377.72464558,  377.72464558,  377.72464558,\n",
              "        377.72464558, 1637.45098039,  377.72464558,  377.72464558,\n",
              "        377.72464558,  377.72464558,  377.72464558,  377.72464558,\n",
              "        377.72464558,  377.72464558,  377.72464558,  377.72464558,\n",
              "       1670.28930818, 1670.28930818,  377.72464558,  377.72464558,\n",
              "        377.72464558, 1670.28930818,  377.72464558,  377.72464558,\n",
              "        377.72464558,  377.72464558,  377.72464558,  377.72464558,\n",
              "        377.72464558,  377.72464558,  377.72464558,  377.72464558,\n",
              "        377.72464558,  377.72464558,  377.72464558,  377.72464558,\n",
              "        377.72464558,  377.72464558,  377.72464558,  377.72464558,\n",
              "        377.72464558,  377.72464558,  377.72464558,  377.72464558,\n",
              "        377.72464558,  377.72464558,  377.72464558,  377.72464558,\n",
              "        377.72464558,  377.72464558,  377.72464558,  377.72464558,\n",
              "        377.72464558,  377.72464558,  377.72464558,  377.72464558,\n",
              "        377.72464558,  377.72464558,  377.72464558,  377.72464558,\n",
              "        377.72464558,  377.72464558,  377.72464558,  377.72464558,\n",
              "        377.72464558,  377.72464558,  377.72464558,  377.72464558,\n",
              "        377.72464558,  377.72464558,  377.72464558,  377.72464558,\n",
              "        377.72464558,  377.72464558,  377.72464558,  377.72464558,\n",
              "        377.72464558,  377.72464558,  377.72464558,  377.72464558,\n",
              "       1670.28930818,  377.72464558,  377.72464558,  377.72464558,\n",
              "        377.72464558,  377.72464558,  377.72464558,  377.72464558,\n",
              "        377.72464558,  377.72464558,  377.72464558,  377.72464558,\n",
              "        377.72464558,  377.72464558,  377.72464558,  377.72464558,\n",
              "        377.72464558,  377.72464558,  377.72464558,  377.72464558,\n",
              "        377.72464558,  377.72464558,  377.72464558,  377.72464558,\n",
              "        377.72464558,  377.72464558,  377.72464558,  377.72464558,\n",
              "        377.72464558,  377.72464558,  377.72464558,  377.72464558,\n",
              "        377.72464558,  377.72464558,  377.72464558,  377.72464558,\n",
              "        377.72464558,  377.72464558,  377.72464558,  377.72464558,\n",
              "        377.72464558,  377.72464558, 1670.28930818,  377.72464558,\n",
              "        377.72464558,  377.72464558,  377.72464558,  377.72464558,\n",
              "        377.72464558, 1670.28930818,  377.72464558,  377.72464558,\n",
              "        377.72464558,  377.72464558,  377.72464558,  377.72464558,\n",
              "        377.72464558,  377.72464558,  377.72464558,  377.72464558,\n",
              "       1670.28930818,  377.72464558,  377.72464558, 1670.28930818,\n",
              "        377.72464558,  377.72464558,  377.72464558,  377.72464558,\n",
              "        377.72464558,  377.72464558,  377.72464558,  377.72464558,\n",
              "        377.72464558,  377.72464558,  377.72464558,  377.72464558,\n",
              "        377.72464558,  377.72464558,  377.72464558,  377.72464558,\n",
              "        377.72464558,  377.72464558, 1670.28930818, 1637.45098039,\n",
              "        377.72464558,  377.72464558,  377.72464558,  377.72464558,\n",
              "        377.72464558,  377.72464558,  377.72464558,  377.72464558,\n",
              "        377.72464558,  377.72464558,  377.72464558,  377.72464558,\n",
              "        377.72464558,  377.72464558,  377.72464558,  377.72464558,\n",
              "        377.72464558,  377.72464558,  377.72464558,  377.72464558,\n",
              "        377.72464558,  377.72464558,  377.72464558,  377.72464558,\n",
              "        377.72464558,  377.72464558,  377.72464558,  377.72464558,\n",
              "        377.72464558,  377.72464558,  377.72464558,  377.72464558,\n",
              "        377.72464558,  377.72464558,  377.72464558,  377.72464558,\n",
              "        377.72464558,  377.72464558,  377.72464558,  377.72464558,\n",
              "        377.72464558,  377.72464558,  377.72464558,  377.72464558,\n",
              "        377.72464558,  377.72464558,  377.72464558,  377.72464558,\n",
              "        377.72464558,  377.72464558,  377.72464558, 1670.28930818,\n",
              "        377.72464558,  377.72464558,  377.72464558,  377.72464558,\n",
              "        377.72464558,  377.72464558,  377.72464558,  377.72464558,\n",
              "        377.72464558,  377.72464558,  377.72464558,  377.72464558,\n",
              "        377.72464558,  377.72464558,  377.72464558,  377.72464558,\n",
              "        377.72464558,  377.72464558,  377.72464558,  377.72464558,\n",
              "        377.72464558,  377.72464558, 1637.45098039,  377.72464558,\n",
              "        377.72464558,  377.72464558,  377.72464558,  377.72464558,\n",
              "        377.72464558,  377.72464558,  377.72464558,  377.72464558,\n",
              "        377.72464558,  377.72464558,  377.72464558, 1670.28930818,\n",
              "        377.72464558,  377.72464558,  377.72464558,  377.72464558,\n",
              "        377.72464558,  377.72464558,  377.72464558,  377.72464558,\n",
              "        377.72464558,  377.72464558,  377.72464558,  377.72464558,\n",
              "        377.72464558,  377.72464558,  377.72464558,  377.72464558,\n",
              "        377.72464558,  377.72464558,  377.72464558,  377.72464558,\n",
              "        377.72464558,  377.72464558,  377.72464558,  377.72464558,\n",
              "        377.72464558,  377.72464558,  377.72464558,  377.72464558,\n",
              "        377.72464558,  377.72464558,  377.72464558,  377.72464558,\n",
              "        377.72464558,  377.72464558,  377.72464558,  377.72464558,\n",
              "        377.72464558,  377.72464558,  377.72464558, 1637.45098039,\n",
              "        377.72464558,  377.72464558,  377.72464558,  377.72464558,\n",
              "        377.72464558,  377.72464558,  377.72464558,  377.72464558,\n",
              "        377.72464558, 1670.28930818,  377.72464558, 1637.45098039,\n",
              "        377.72464558, 1637.45098039,  377.72464558,  377.72464558,\n",
              "        377.72464558,  377.72464558,  377.72464558, 1637.45098039,\n",
              "       1670.28930818,  377.72464558, 1637.45098039,  377.72464558,\n",
              "        377.72464558, 1637.45098039, 1637.45098039, 1637.45098039,\n",
              "        377.72464558,  377.72464558,  377.72464558,  377.72464558,\n",
              "       1637.45098039,  377.72464558, 1637.45098039,  377.72464558,\n",
              "        377.72464558,  377.72464558, 1637.45098039,  377.72464558,\n",
              "       1637.45098039, 1637.45098039,  377.72464558,  377.72464558,\n",
              "        377.72464558, 1670.28930818,  377.72464558, 1670.28930818,\n",
              "        377.72464558,  377.72464558,  377.72464558,  377.72464558,\n",
              "        377.72464558,  377.72464558,  377.72464558,  377.72464558,\n",
              "       1670.28930818,  377.72464558,  377.72464558,  377.72464558,\n",
              "        377.72464558,  377.72464558,  377.72464558,  377.72464558,\n",
              "        377.72464558,  377.72464558,  377.72464558,  377.72464558,\n",
              "        377.72464558,  377.72464558,  377.72464558,  377.72464558,\n",
              "        377.72464558,  377.72464558,  377.72464558,  377.72464558,\n",
              "        377.72464558,  377.72464558,  377.72464558,  377.72464558,\n",
              "        377.72464558, 1670.28930818,  377.72464558, 1670.28930818,\n",
              "        377.72464558,  377.72464558,  377.72464558,  377.72464558,\n",
              "        377.72464558,  377.72464558,  377.72464558,  377.72464558,\n",
              "        377.72464558,  377.72464558, 1670.28930818,  377.72464558,\n",
              "        377.72464558,  377.72464558,  377.72464558,  377.72464558,\n",
              "        377.72464558,  377.72464558,  377.72464558,  377.72464558,\n",
              "        377.72464558, 1670.28930818, 1670.28930818,  377.72464558,\n",
              "       1670.28930818,  377.72464558, 1670.28930818,  377.72464558,\n",
              "        377.72464558,  377.72464558, 1637.45098039,  377.72464558,\n",
              "        377.72464558,  377.72464558,  377.72464558,  377.72464558,\n",
              "        377.72464558,  377.72464558,  377.72464558,  377.72464558,\n",
              "        377.72464558,  377.72464558,  377.72464558, 1637.45098039,\n",
              "        377.72464558,  377.72464558,  377.72464558,  377.72464558,\n",
              "        377.72464558,  377.72464558,  377.72464558, 1670.28930818,\n",
              "        377.72464558,  377.72464558,  377.72464558,  377.72464558,\n",
              "        377.72464558,  377.72464558,  377.72464558,  377.72464558,\n",
              "        377.72464558,  377.72464558,  377.72464558,  377.72464558,\n",
              "        377.72464558,  377.72464558,  377.72464558,  377.72464558,\n",
              "        377.72464558,  377.72464558,  377.72464558,  377.72464558,\n",
              "        377.72464558,  377.72464558,  377.72464558,  377.72464558,\n",
              "        377.72464558,  377.72464558,  377.72464558,  377.72464558,\n",
              "        377.72464558,  377.72464558,  377.72464558,  377.72464558,\n",
              "        377.72464558,  377.72464558,  377.72464558,  377.72464558,\n",
              "        377.72464558,  377.72464558,  377.72464558,  377.72464558,\n",
              "        377.72464558,  377.72464558,  377.72464558,  377.72464558,\n",
              "        377.72464558,  377.72464558,  377.72464558,  377.72464558,\n",
              "        377.72464558,  377.72464558,  377.72464558,  377.72464558,\n",
              "        377.72464558,  377.72464558, 1670.28930818,  377.72464558,\n",
              "       1670.28930818,  377.72464558,  377.72464558,  377.72464558,\n",
              "        377.72464558,  377.72464558,  377.72464558,  377.72464558,\n",
              "        377.72464558,  377.72464558,  377.72464558,  377.72464558,\n",
              "        377.72464558,  377.72464558,  377.72464558,  377.72464558,\n",
              "        377.72464558,  377.72464558,  377.72464558,  377.72464558,\n",
              "        377.72464558,  377.72464558,  377.72464558,  377.72464558,\n",
              "        377.72464558,  377.72464558,  377.72464558,  377.72464558,\n",
              "        377.72464558,  377.72464558,  377.72464558,  377.72464558,\n",
              "        377.72464558,  377.72464558,  377.72464558,  377.72464558,\n",
              "        377.72464558,  377.72464558,  377.72464558, 1670.28930818,\n",
              "        377.72464558,  377.72464558,  377.72464558,  377.72464558,\n",
              "        377.72464558,  377.72464558,  377.72464558,  377.72464558,\n",
              "       1670.28930818,  377.72464558, 1670.28930818, 1670.28930818,\n",
              "        377.72464558,  377.72464558,  377.72464558,  377.72464558,\n",
              "        377.72464558,  377.72464558,  377.72464558,  377.72464558,\n",
              "        377.72464558,  377.72464558,  377.72464558,  377.72464558,\n",
              "        377.72464558,  377.72464558,  377.72464558,  377.72464558,\n",
              "        377.72464558,  377.72464558,  377.72464558,  377.72464558,\n",
              "        377.72464558,  377.72464558,  377.72464558,  377.72464558,\n",
              "        377.72464558,  377.72464558,  377.72464558,  377.72464558,\n",
              "        377.72464558,  377.72464558,  377.72464558,  377.72464558,\n",
              "        377.72464558,  377.72464558,  377.72464558,  377.72464558,\n",
              "        377.72464558,  377.72464558,  377.72464558, 1637.45098039,\n",
              "       1670.28930818,  377.72464558,  377.72464558,  377.72464558,\n",
              "        377.72464558,  377.72464558,  377.72464558,  377.72464558,\n",
              "        377.72464558,  377.72464558,  377.72464558,  377.72464558,\n",
              "        377.72464558,  377.72464558,  377.72464558,  377.72464558,\n",
              "        377.72464558,  377.72464558,  377.72464558,  377.72464558,\n",
              "        377.72464558,  377.72464558,  377.72464558,  377.72464558,\n",
              "        377.72464558,  377.72464558,  377.72464558,  377.72464558,\n",
              "        377.72464558,  377.72464558,  377.72464558,  377.72464558,\n",
              "       1670.28930818,  377.72464558,  377.72464558,  377.72464558,\n",
              "        377.72464558,  377.72464558,  377.72464558, 1670.28930818,\n",
              "        377.72464558,  377.72464558,  377.72464558,  377.72464558,\n",
              "        377.72464558,  377.72464558,  377.72464558,  377.72464558,\n",
              "        377.72464558,  377.72464558,  377.72464558,  377.72464558,\n",
              "        377.72464558,  377.72464558,  377.72464558,  377.72464558,\n",
              "        377.72464558,  377.72464558, 1670.28930818,  377.72464558,\n",
              "        377.72464558,  377.72464558,  377.72464558,  377.72464558,\n",
              "       1670.28930818,  377.72464558,  377.72464558, 1670.28930818,\n",
              "        377.72464558,  377.72464558,  377.72464558,  377.72464558,\n",
              "        377.72464558,  377.72464558,  377.72464558,  377.72464558,\n",
              "        377.72464558,  377.72464558,  377.72464558,  377.72464558,\n",
              "        377.72464558,  377.72464558,  377.72464558,  377.72464558,\n",
              "        377.72464558,  377.72464558,  377.72464558,  377.72464558,\n",
              "        377.72464558,  377.72464558,  377.72464558,  377.72464558,\n",
              "        377.72464558,  377.72464558,  377.72464558,  377.72464558,\n",
              "        377.72464558,  377.72464558,  377.72464558,  377.72464558,\n",
              "        377.72464558,  377.72464558,  377.72464558,  377.72464558,\n",
              "        377.72464558,  377.72464558,  377.72464558,  377.72464558,\n",
              "        377.72464558,  377.72464558,  377.72464558,  377.72464558,\n",
              "        377.72464558,  377.72464558,  377.72464558,  377.72464558,\n",
              "        377.72464558,  377.72464558,  377.72464558,  377.72464558,\n",
              "        377.72464558, 1670.28930818,  377.72464558, 1670.28930818,\n",
              "        377.72464558,  377.72464558,  377.72464558, 1670.28930818,\n",
              "        377.72464558,  377.72464558,  377.72464558,  377.72464558,\n",
              "       1670.28930818,  377.72464558, 1670.28930818,  377.72464558,\n",
              "        377.72464558,  377.72464558,  377.72464558,  377.72464558,\n",
              "        377.72464558,  377.72464558, 1670.28930818,  377.72464558,\n",
              "        377.72464558,  377.72464558,  377.72464558, 1670.28930818,\n",
              "        377.72464558,  377.72464558, 1670.28930818,  377.72464558,\n",
              "        377.72464558,  377.72464558,  377.72464558,  377.72464558,\n",
              "        377.72464558,  377.72464558,  377.72464558,  377.72464558,\n",
              "        377.72464558,  377.72464558,  377.72464558,  377.72464558,\n",
              "        377.72464558,  377.72464558,  377.72464558,  377.72464558,\n",
              "        377.72464558,  377.72464558,  377.72464558,  377.72464558,\n",
              "        377.72464558,  377.72464558,  377.72464558,  377.72464558,\n",
              "        377.72464558,  377.72464558,  377.72464558,  377.72464558,\n",
              "       1670.28930818,  377.72464558,  377.72464558,  377.72464558,\n",
              "        377.72464558,  377.72464558,  377.72464558,  377.72464558,\n",
              "        377.72464558,  377.72464558,  377.72464558, 1637.45098039,\n",
              "        377.72464558, 1670.28930818,  377.72464558,  377.72464558,\n",
              "        377.72464558,  377.72464558,  377.72464558,  377.72464558,\n",
              "        377.72464558, 1670.28930818,  377.72464558,  377.72464558,\n",
              "       1670.28930818,  377.72464558,  377.72464558, 1670.28930818,\n",
              "        377.72464558, 1670.28930818,  377.72464558,  377.72464558,\n",
              "        377.72464558,  377.72464558,  377.72464558,  377.72464558,\n",
              "        377.72464558,  377.72464558,  377.72464558,  377.72464558,\n",
              "       1670.28930818,  377.72464558, 1670.28930818, 6234.        ,\n",
              "       1670.28930818,  377.72464558,  377.72464558,  377.72464558,\n",
              "        377.72464558,  377.72464558,  377.72464558,  377.72464558,\n",
              "        377.72464558,  377.72464558, 1670.28930818, 1670.28930818,\n",
              "       1670.28930818,  377.72464558,  377.72464558, 1670.28930818,\n",
              "        377.72464558,  377.72464558,  377.72464558,  377.72464558,\n",
              "        377.72464558,  377.72464558,  377.72464558,  377.72464558,\n",
              "        377.72464558,  377.72464558,  377.72464558,  377.72464558,\n",
              "        377.72464558,  377.72464558,  377.72464558,  377.72464558,\n",
              "        377.72464558,  377.72464558,  377.72464558,  377.72464558,\n",
              "        377.72464558,  377.72464558, 1670.28930818,  377.72464558,\n",
              "        377.72464558, 1670.28930818,  377.72464558,  377.72464558,\n",
              "        377.72464558,  377.72464558,  377.72464558, 1670.28930818,\n",
              "        377.72464558,  377.72464558,  377.72464558,  377.72464558,\n",
              "       1637.45098039,  377.72464558])"
            ]
          },
          "metadata": {
            "tags": []
          },
          "execution_count": 17
        }
      ]
    },
    {
      "cell_type": "code",
      "metadata": {
        "colab": {
          "base_uri": "https://localhost:8080/",
          "height": 17
        },
        "id": "ZcOsIz2ehF6b",
        "outputId": "dd82e80c-5355-44ac-d07b-e369fb53cb5a"
      },
      "source": [
        "res = pd.DataFrame(y_mypred)           \n",
        "from google.colab import files                 \n",
        "res.to_csv('prediction_results.csv')                       \n",
        "files.download('prediction_results.csv')"
      ],
      "execution_count": null,
      "outputs": [
        {
          "output_type": "display_data",
          "data": {
            "application/javascript": [
              "\n",
              "    async function download(id, filename, size) {\n",
              "      if (!google.colab.kernel.accessAllowed) {\n",
              "        return;\n",
              "      }\n",
              "      const div = document.createElement('div');\n",
              "      const label = document.createElement('label');\n",
              "      label.textContent = `Downloading \"${filename}\": `;\n",
              "      div.appendChild(label);\n",
              "      const progress = document.createElement('progress');\n",
              "      progress.max = size;\n",
              "      div.appendChild(progress);\n",
              "      document.body.appendChild(div);\n",
              "\n",
              "      const buffers = [];\n",
              "      let downloaded = 0;\n",
              "\n",
              "      const channel = await google.colab.kernel.comms.open(id);\n",
              "      // Send a message to notify the kernel that we're ready.\n",
              "      channel.send({})\n",
              "\n",
              "      for await (const message of channel.messages) {\n",
              "        // Send a message to notify the kernel that we're ready.\n",
              "        channel.send({})\n",
              "        if (message.buffers) {\n",
              "          for (const buffer of message.buffers) {\n",
              "            buffers.push(buffer);\n",
              "            downloaded += buffer.byteLength;\n",
              "            progress.value = downloaded;\n",
              "          }\n",
              "        }\n",
              "      }\n",
              "      const blob = new Blob(buffers, {type: 'application/binary'});\n",
              "      const a = document.createElement('a');\n",
              "      a.href = window.URL.createObjectURL(blob);\n",
              "      a.download = filename;\n",
              "      div.appendChild(a);\n",
              "      a.click();\n",
              "      div.remove();\n",
              "    }\n",
              "  "
            ],
            "text/plain": [
              "<IPython.core.display.Javascript object>"
            ]
          },
          "metadata": {
            "tags": []
          }
        },
        {
          "output_type": "display_data",
          "data": {
            "application/javascript": [
              "download(\"download_74081949-0725-4e89-84f3-7218936a58ae\", \"prediction_results.csv\", 21596)"
            ],
            "text/plain": [
              "<IPython.core.display.Javascript object>"
            ]
          },
          "metadata": {
            "tags": []
          }
        }
      ]
    }
  ]
}